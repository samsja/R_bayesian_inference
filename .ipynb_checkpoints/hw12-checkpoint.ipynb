{
 "cells": [
  {
   "cell_type": "code",
   "execution_count": 3,
   "metadata": {},
   "outputs": [],
   "source": [
    "import numpy as np"
   ]
  },
  {
   "cell_type": "code",
   "execution_count": 27,
   "metadata": {},
   "outputs": [],
   "source": [
    "Q = np.array([ [0,1,1,1,1,0,0,0,0],\n",
    "    [0,0,1,1,1,1,0,0,0],\n",
    "    [0,0,0,0,0,0,0,4,0],\n",
    "    [0,0,0,0,1,1,1,1,0],\n",
    "    [0,0,0,0,0,1,1,1,1],\n",
    "    [0,0,0,4,0,0,0,0,0],\n",
    "    [0,0,0,0,0,0,1,1,1],\n",
    "    [0,0,0,0,0,0,0,2,1],\n",
    "    [0,0,0,0,4,0,0,0,0] ]\n",
    "   )/4"
   ]
  },
  {
   "cell_type": "code",
   "execution_count": 28,
   "metadata": {},
   "outputs": [
    {
     "data": {
      "text/plain": [
       "array([[0.  , 0.25, 0.25, 0.25, 0.25, 0.  , 0.  , 0.  , 0.  ],\n",
       "       [0.  , 0.  , 0.25, 0.25, 0.25, 0.25, 0.  , 0.  , 0.  ],\n",
       "       [0.  , 0.  , 0.  , 0.  , 0.  , 0.  , 0.  , 1.  , 0.  ],\n",
       "       [0.  , 0.  , 0.  , 0.  , 0.25, 0.25, 0.25, 0.25, 0.  ],\n",
       "       [0.  , 0.  , 0.  , 0.  , 0.  , 0.25, 0.25, 0.25, 0.25],\n",
       "       [0.  , 0.  , 0.  , 1.  , 0.  , 0.  , 0.  , 0.  , 0.  ],\n",
       "       [0.  , 0.  , 0.  , 0.  , 0.  , 0.  , 0.25, 0.25, 0.25],\n",
       "       [0.  , 0.  , 0.  , 0.  , 0.  , 0.  , 0.  , 0.5 , 0.25],\n",
       "       [0.  , 0.  , 0.  , 0.  , 1.  , 0.  , 0.  , 0.  , 0.  ]])"
      ]
     },
     "execution_count": 28,
     "metadata": {},
     "output_type": "execute_result"
    }
   ],
   "source": [
    "Q"
   ]
  },
  {
   "cell_type": "code",
   "execution_count": 29,
   "metadata": {},
   "outputs": [],
   "source": [
    "F = np.linalg.inv((np.eye(9)-Q))"
   ]
  },
  {
   "cell_type": "code",
   "execution_count": 34,
   "metadata": {},
   "outputs": [
    {
     "data": {
      "text/plain": [
       "0.5"
      ]
     },
     "execution_count": 34,
     "metadata": {},
     "output_type": "execute_result"
    }
   ],
   "source": []
  },
  {
   "cell_type": "code",
   "execution_count": 31,
   "metadata": {},
   "outputs": [
    {
     "data": {
      "text/plain": [
       "array([11.3828125, 11.40625  ,  8.875    , 10.5      , 10.75     ,\n",
       "       11.5      ,  7.875    ,  7.875    , 11.75     ])"
      ]
     },
     "execution_count": 31,
     "metadata": {},
     "output_type": "execute_result"
    }
   ],
   "source": [
    "F@np.ones(9)"
   ]
  },
  {
   "cell_type": "code",
   "execution_count": 35,
   "metadata": {},
   "outputs": [
    {
     "data": {
      "text/plain": [
       "array([[0.08787346, 0.02196837, 0.02746046, 0.10709578, 0.18947715,\n",
       "        0.07963533, 0.09885764, 0.2526362 , 0.13524275],\n",
       "       [0.        , 0.08787346, 0.02196837, 0.12082601, 0.18673111,\n",
       "        0.09885764, 0.10251904, 0.24897481, 0.13455624],\n",
       "       [0.        , 0.        , 0.08787346, 0.04393673, 0.13181019,\n",
       "        0.04393673, 0.05858231, 0.29291154, 0.12082601],\n",
       "       [0.        , 0.        , 0.        , 0.17574692, 0.17574692,\n",
       "        0.08787346, 0.11716462, 0.23432923, 0.13181019],\n",
       "       [0.        , 0.        , 0.        , 0.08787346, 0.26362039,\n",
       "        0.08787346, 0.11716462, 0.23432923, 0.15377856],\n",
       "       [0.        , 0.        , 0.        , 0.17574692, 0.17574692,\n",
       "        0.17574692, 0.11716462, 0.23432923, 0.13181019],\n",
       "       [0.        , 0.        , 0.        , 0.04393673, 0.13181019,\n",
       "        0.04393673, 0.17574692, 0.17574692, 0.12082601],\n",
       "       [0.        , 0.        , 0.        , 0.04393673, 0.13181019,\n",
       "        0.04393673, 0.05858231, 0.29291154, 0.12082601],\n",
       "       [0.        , 0.        , 0.        , 0.08787346, 0.26362039,\n",
       "        0.08787346, 0.11716462, 0.23432923, 0.24165202]])"
      ]
     },
     "execution_count": 35,
     "metadata": {},
     "output_type": "execute_result"
    }
   ],
   "source": [
    "F/(11.38)"
   ]
  },
  {
   "cell_type": "code",
   "execution_count": null,
   "metadata": {},
   "outputs": [],
   "source": []
  }
 ],
 "metadata": {
  "kernelspec": {
   "display_name": "Python 3",
   "language": "python",
   "name": "python3"
  },
  "language_info": {
   "codemirror_mode": {
    "name": "ipython",
    "version": 3
   },
   "file_extension": ".py",
   "mimetype": "text/x-python",
   "name": "python",
   "nbconvert_exporter": "python",
   "pygments_lexer": "ipython3",
   "version": "3.8.5"
  }
 },
 "nbformat": 4,
 "nbformat_minor": 4
}
