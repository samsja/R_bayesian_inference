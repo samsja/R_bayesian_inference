{
 "cells": [
  {
   "cell_type": "markdown",
   "metadata": {},
   "source": [
    "# Homewor 3"
   ]
  },
  {
   "cell_type": "markdown",
   "metadata": {},
   "source": [
    "## Exo 1"
   ]
  },
  {
   "cell_type": "markdown",
   "metadata": {},
   "source": [
    "### a)"
   ]
  },
  {
   "cell_type": "code",
   "execution_count": 1,
   "metadata": {},
   "outputs": [],
   "source": [
    "x <- 36*0.4*0.4"
   ]
  },
  {
   "cell_type": "code",
   "execution_count": 16,
   "metadata": {},
   "outputs": [],
   "source": [
    "proba_N_A <- function(lambda,norm_A,k) {\n",
    "    return (exp(-lambda*norm_A)*((lambda*norm_A)**k)/factorial(k))\n",
    "}"
   ]
  },
  {
   "cell_type": "code",
   "execution_count": 17,
   "metadata": {},
   "outputs": [
    {
     "data": {
      "text/html": [
       "0.515043417530272"
      ],
      "text/latex": [
       "0.515043417530272"
      ],
      "text/markdown": [
       "0.515043417530272"
      ],
      "text/plain": [
       "[1] 0.5150434"
      ]
     },
     "metadata": {},
     "output_type": "display_data"
    }
   ],
   "source": [
    "p_N_A_sup_6 <- 1\n",
    "\n",
    "for (i in 0:5) {\n",
    "    p_N_A_sup_6 <- p_N_A_sup_6 - proba_N_A(36,0.16,i)\n",
    "}\n",
    "p_N_A_sup_6"
   ]
  },
  {
   "cell_type": "markdown",
   "metadata": {},
   "source": [
    "### b)"
   ]
  },
  {
   "cell_type": "code",
   "execution_count": 19,
   "metadata": {},
   "outputs": [],
   "source": [
    "norm_C <- 0.04\n",
    "norm_A <- 0.12\n",
    "norm_B <- norm_A\n",
    "lambda <- 36"
   ]
  },
  {
   "cell_type": "code",
   "execution_count": 22,
   "metadata": {},
   "outputs": [
    {
     "data": {
      "text/html": [
       "0.0239022187463592"
      ],
      "text/latex": [
       "0.0239022187463592"
      ],
      "text/markdown": [
       "0.0239022187463592"
      ],
      "text/plain": [
       "[1] 0.02390222"
      ]
     },
     "metadata": {},
     "output_type": "display_data"
    }
   ],
   "source": [
    "p <- 0\n",
    "for (k in 0:4) {\n",
    "    p <- p + proba_N_A(lambda,norm_C,k)*proba_N_A(lambda,norm_A,4-k)**2\n",
    "}\n",
    "p"
   ]
  },
  {
   "cell_type": "markdown",
   "metadata": {},
   "source": [
    "### c)"
   ]
  },
  {
   "cell_type": "code",
   "execution_count": 40,
   "metadata": {},
   "outputs": [],
   "source": [
    "simulate_tree <- function(lambda) {\n",
    "    \n",
    "    N <- rpois(1,lambda)\n",
    "    x = runif(N,0,1)\n",
    "    y = runif(N,0,1)\n",
    "    \n",
    "    tree_positions <- data.frame(x = x, y = y) \n",
    "    \n",
    "    return (tree_positions)\n",
    "}"
   ]
  },
  {
   "cell_type": "code",
   "execution_count": 43,
   "metadata": {},
   "outputs": [],
   "source": [
    "tree_positions = simulate_tree(lambda)"
   ]
  },
  {
   "cell_type": "code",
   "execution_count": 46,
   "metadata": {},
   "outputs": [
    {
     "data": {
      "image/png": "[encoded data removed]",
      "text/plain": [
       "plot without title"
      ]
     },
     "metadata": {
      "image/png": {
       "height": 420,
       "width": 420
      }
     },
     "output_type": "display_data"
    }
   ],
   "source": [
    "plot(tree_positions$x,tree_positions$y,pch=2)"
   ]
  }
 ],
 "metadata": {
  "kernelspec": {
   "display_name": "R",
   "language": "R",
   "name": "ir"
  },
  "language_info": {
   "codemirror_mode": "r",
   "file_extension": ".r",
   "mimetype": "text/x-r-source",
   "name": "R",
   "pygments_lexer": "r",
   "version": "4.0.3"
  }
 },
 "nbformat": 4,
 "nbformat_minor": 4
}
