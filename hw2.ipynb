{
 "cells": [
  {
   "cell_type": "markdown",
   "metadata": {},
   "source": [
    "# Homework 2"
   ]
  },
  {
   "cell_type": "markdown",
   "metadata": {},
   "source": [
    "## Exo 1"
   ]
  },
  {
   "cell_type": "markdown",
   "metadata": {},
   "source": [
    "### b)"
   ]
  },
  {
   "cell_type": "code",
   "execution_count": 1,
   "metadata": {},
   "outputs": [],
   "source": [
    "func_gen <- function(lambda,s) {\n",
    "    return (exp(lambda*(s-1)))\n",
    "}\n",
    "\n",
    "extinct_prob <- function(lambda) {\n",
    "    func_objectif <- function(s) {\n",
    "    \n",
    "        return( (s-func_gen(lambda,s))**2 )\n",
    "\n",
    "    }\n",
    "\n",
    "    return(optimize(func_objectif,c(0, 1),maximum = FALSE)$minimum)\n",
    "}\n",
    "\n",
    "\n",
    "extinct_prob_array <- function(lambdas) {\n",
    "    \n",
    "    e_lambdas <- array(0, dim=c(length(lambdas),1))\n",
    "\n",
    "    for (i in 1:length(lambdas)) {\n",
    "         e_lambdas[i,] <- extinct_prob(lambdas[i])\n",
    "    }\n",
    "\n",
    "    return(e_lambdas)\n",
    "}"
   ]
  },
  {
   "cell_type": "code",
   "execution_count": 2,
   "metadata": {},
   "outputs": [
    {
     "data": {
      "image/png": "[encoded data removed]",
      "text/plain": [
       "plot without title"
      ]
     },
     "metadata": {
      "image/png": {
       "height": 420,
       "width": 420
      }
     },
     "output_type": "display_data"
    }
   ],
   "source": [
    "lambdas <- seq(0,10,0.01)\n",
    "plot(lambdas,extinct_prob_array(lambdas))"
   ]
  },
  {
   "cell_type": "code",
   "execution_count": 3,
   "metadata": {},
   "outputs": [
    {
     "data": {
      "text/html": [
       "0.0595188762366799"
      ],
      "text/latex": [
       "0.0595188762366799"
      ],
      "text/markdown": [
       "0.0595188762366799"
      ],
      "text/plain": [
       "[1] 0.05951888"
      ]
     },
     "metadata": {},
     "output_type": "display_data"
    }
   ],
   "source": [
    "extinct_prob(3)"
   ]
  },
  {
   "cell_type": "markdown",
   "metadata": {},
   "source": [
    "### c)"
   ]
  },
  {
   "cell_type": "code",
   "execution_count": 4,
   "metadata": {},
   "outputs": [],
   "source": [
    "extinct_prob_with_prior <- function(alpha,beta){\n",
    "    \n",
    "    func_to_integrate <- function(lambda) {\n",
    "        \n",
    "        return ( extinct_prob_array(lambda)*dgamma(lambda, alpha, beta))\n",
    "    }\n",
    "        \n",
    "    max_int = 10\n",
    "    \n",
    "    return( integrate(func_to_integrate,0,max_int)$value)\n",
    "}"
   ]
  },
  {
   "cell_type": "code",
   "execution_count": 5,
   "metadata": {},
   "outputs": [
    {
     "data": {
      "text/html": [
       "0.40021168530782"
      ],
      "text/latex": [
       "0.40021168530782"
      ],
      "text/markdown": [
       "0.40021168530782"
      ],
      "text/plain": [
       "[1] 0.4002117"
      ]
     },
     "metadata": {},
     "output_type": "display_data"
    }
   ],
   "source": [
    "extinct_prob_with_prior(15,9)"
   ]
  },
  {
   "cell_type": "markdown",
   "metadata": {},
   "source": [
    "### d)"
   ]
  },
  {
   "cell_type": "code",
   "execution_count": 6,
   "metadata": {},
   "outputs": [],
   "source": [
    "branch <- function(n,lambda) {\n",
    "    z <- c(1,rep(0,n))\n",
    "    \n",
    "    for (i in 2:(n+1)) {\n",
    "        \n",
    "        z[i] <- sum(rpois(z[i-1],lambda))\n",
    "        \n",
    "    }\n",
    "    return(z)\n",
    "}\n",
    "\n",
    "branch_array <- function(n,lambdas){\n",
    "    \n",
    "    branches <- array(0, dim=c(length(lambdas),n+1))\n",
    "    for (i in 1:length(lambdas)) {\n",
    "         branches[i,] <- branch(n,lambdas[i])\n",
    "    }\n",
    "    \n",
    "    return (branches)\n",
    "}"
   ]
  },
  {
   "cell_type": "code",
   "execution_count": 7,
   "metadata": {},
   "outputs": [],
   "source": [
    "extinct_prop <- function(branches){\n",
    "    s = 0\n",
    "    for (i in 1:dim(branches)[1]) {\n",
    "        if (tail(branches[i,],1) == 0) {\n",
    "         s = s+1\n",
    "        }\n",
    "    }\n",
    "\n",
    "    return (s/dim(branches)[1])\n",
    "}"
   ]
  },
  {
   "cell_type": "markdown",
   "metadata": {},
   "source": [
    "#### method 1) the distribution of lambda follow the prior knowledge infered by the data"
   ]
  },
  {
   "cell_type": "code",
   "execution_count": 8,
   "metadata": {},
   "outputs": [],
   "source": [
    "alpha = 15\n",
    "beta = 9"
   ]
  },
  {
   "cell_type": "code",
   "execution_count": 9,
   "metadata": {},
   "outputs": [],
   "source": [
    "N = 1000"
   ]
  },
  {
   "cell_type": "code",
   "execution_count": 10,
   "metadata": {},
   "outputs": [],
   "source": [
    "lambdas <- rgamma(N, alpha, beta)\n",
    "branches = branch_array(15,lambdas)"
   ]
  },
  {
   "cell_type": "code",
   "execution_count": 11,
   "metadata": {
    "scrolled": false
   },
   "outputs": [
    {
     "data": {
      "text/html": [
       "0.375"
      ],
      "text/latex": [
       "0.375"
      ],
      "text/markdown": [
       "0.375"
      ],
      "text/plain": [
       "[1] 0.375"
      ]
     },
     "metadata": {},
     "output_type": "display_data"
    }
   ],
   "source": [
    "extinct_prop(branches)"
   ]
  },
  {
   "cell_type": "markdown",
   "metadata": {},
   "source": [
    "#### method 2) the distribution of lambda follow the prior knowledge $1/\\lambda$ (no data)"
   ]
  },
  {
   "cell_type": "code",
   "execution_count": 12,
   "metadata": {},
   "outputs": [],
   "source": [
    "#install.packages(\"distr\")"
   ]
  },
  {
   "cell_type": "code",
   "execution_count": 13,
   "metadata": {},
   "outputs": [],
   "source": [
    "suppressMessages(require(distr))"
   ]
  },
  {
   "cell_type": "code",
   "execution_count": 62,
   "metadata": {},
   "outputs": [],
   "source": [
    "density_gamma00 <- function(x){\n",
    "\n",
    "    if (x>0.1){\n",
    "        return (1/(40000*x))\n",
    "    }\n",
    "    else{\n",
    "        return (0)\n",
    "    }\n",
    "}\n",
    "\n",
    "density_gamma00_array <- function(x){\n",
    "    \n",
    "    densities <- array(0, dim=c(length(x),1))\n",
    "    for (i in 1:length(x)) {\n",
    "         densities[i,] <- density_gamma00(x[i])\n",
    "    }\n",
    "    \n",
    "    return (densities)\n",
    "}"
   ]
  },
  {
   "cell_type": "code",
   "execution_count": 63,
   "metadata": {},
   "outputs": [],
   "source": [
    "gamma00 <-AbscontDistribution(d=density_gamma00_array,withStand=TRUE)\n",
    "rgamma00 <- r(gamma00)                             "
   ]
  },
  {
   "cell_type": "code",
   "execution_count": 64,
   "metadata": {},
   "outputs": [
    {
     "data": {
      "text/html": [
       "3.9993893503415"
      ],
      "text/latex": [
       "3.9993893503415"
      ],
      "text/markdown": [
       "3.9993893503415"
      ],
      "text/plain": [
       "[1] 3.999389"
      ]
     },
     "metadata": {},
     "output_type": "display_data"
    }
   ],
   "source": [
    "lambdas2 <- rgamma00(10000)\n",
    "max(lambdas2)"
   ]
  },
  {
   "cell_type": "code",
   "execution_count": 84,
   "metadata": {},
   "outputs": [],
   "source": [
    "N = 1000000"
   ]
  },
  {
   "cell_type": "code",
   "execution_count": 85,
   "metadata": {},
   "outputs": [],
   "source": [
    "lambdas2 <- rgamma00(N)\n",
    "lambdas <- rgamma(N, alpha, beta)"
   ]
  },
  {
   "cell_type": "code",
   "execution_count": 86,
   "metadata": {},
   "outputs": [],
   "source": [
    "branches = branch_array(10,lambdas2)"
   ]
  },
  {
   "cell_type": "code",
   "execution_count": 87,
   "metadata": {},
   "outputs": [],
   "source": [
    "branches_target <- branches[branches[,1]== 1 & branches[,2]== 1 & branches[,3]== 2 & branches[,4]== 5 &  branches[,5]==7,]"
   ]
  },
  {
   "cell_type": "code",
   "execution_count": 88,
   "metadata": {
    "scrolled": false
   },
   "outputs": [
    {
     "data": {
      "text/html": [
       "0.0260869565217391"
      ],
      "text/latex": [
       "0.0260869565217391"
      ],
      "text/markdown": [
       "0.0260869565217391"
      ],
      "text/plain": [
       "[1] 0.02608696"
      ]
     },
     "metadata": {},
     "output_type": "display_data"
    }
   ],
   "source": [
    "extinct_prop(branches_target)"
   ]
  },
  {
   "cell_type": "code",
   "execution_count": 97,
   "metadata": {},
   "outputs": [
    {
     "data": {
      "text/html": [
       "2530"
      ],
      "text/latex": [
       "2530"
      ],
      "text/markdown": [
       "2530"
      ],
      "text/plain": [
       "[1] 2530"
      ]
     },
     "metadata": {},
     "output_type": "display_data"
    }
   ],
   "source": [
    "length(branches_target)"
   ]
  },
  {
   "cell_type": "code",
   "execution_count": 96,
   "metadata": {},
   "outputs": [
    {
     "data": {
      "text/html": [
       "0.0279936"
      ],
      "text/latex": [
       "0.0279936"
      ],
      "text/markdown": [
       "0.0279936"
      ],
      "text/plain": [
       "[1] 0.0279936"
      ]
     },
     "metadata": {},
     "output_type": "display_data"
    }
   ],
   "source": [
    "(1-0.4)**7"
   ]
  },
  {
   "cell_type": "markdown",
   "metadata": {},
   "source": [
    "### e)"
   ]
  },
  {
   "cell_type": "code",
   "execution_count": 74,
   "metadata": {},
   "outputs": [],
   "source": [
    "ml_lambda = 15/9"
   ]
  },
  {
   "cell_type": "code",
   "execution_count": 75,
   "metadata": {},
   "outputs": [
    {
     "data": {
      "text/html": [
       "0.324257683430999"
      ],
      "text/latex": [
       "0.324257683430999"
      ],
      "text/markdown": [
       "0.324257683430999"
      ],
      "text/plain": [
       "[1] 0.3242577"
      ]
     },
     "metadata": {},
     "output_type": "display_data"
    }
   ],
   "source": [
    "extinct_prob(ml_lambda)"
   ]
  }
 ],
 "metadata": {
  "kernelspec": {
   "display_name": "R",
   "language": "R",
   "name": "ir"
  },
  "language_info": {
   "codemirror_mode": "r",
   "file_extension": ".r",
   "mimetype": "text/x-r-source",
   "name": "R",
   "pygments_lexer": "r",
   "version": "4.0.3"
  }
 },
 "nbformat": 4,
 "nbformat_minor": 4
}
